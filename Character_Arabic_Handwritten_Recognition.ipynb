{
  "nbformat": 4,
  "nbformat_minor": 0,
  "metadata": {
    "colab": {
      "name": "Character Arabic_Handwritten_Recognition.ipynb",
      "provenance": [],
      "collapsed_sections": []
    },
    "kernelspec": {
      "name": "python3",
      "display_name": "Python 3"
    },
    "accelerator": "GPU"
  },
  "cells": [
    {
      "cell_type": "markdown",
      "metadata": {
        "id": "c6TiNABwkAhe"
      },
      "source": [
        "# Arabic Handwritten Recognition"
      ]
    },
    {
      "cell_type": "markdown",
      "metadata": {
        "id": "yLgu44Fvkgdr"
      },
      "source": [
        "## Overview\n",
        "The automatic recognition of text on scanned images has enabled many applications such as searching for words in large volumes of documents, automatic sorting of postal mail, and convenient editing of previously printed documents.\n",
        "\n",
        "The domain of handwriting in the Arabic script presents unique technical challenges and has been addressed more recently than other domains. Many different methods have been proposed and applied to various types of images.\n",
        "\n",
        "Here we will focus on the recognition part of handwritten Arabic letters and digits recognition that face several challenges, including the unlimited variation in human handwriting and the large public databases.\n",
        "\n",
        "In this project we will employ several deep learning models to classify a the images to an arabic letter.\n",
        "\n"
      ]
    },
    {
      "cell_type": "markdown",
      "metadata": {
        "id": "jDxpa4JAonJF"
      },
      "source": [
        "## Dataset\n",
        "The dataset for this project originates from kaggle kernels which include \n",
        "**[Arabic Letters](https://www.kaggle.com/mloey1/ahcd1)**.\n",
        "\n",
        "All the datasets are CSV files representing the image pixels values and their corresponding label.\n",
        "\n",
        "Here are some more details about the datasets:\n",
        "\n",
        "* **Arabic Letters Dataset is composed of 16,800 characters written by 60 participants**, the age range is between 19 to 40 years, and 90% of participants are right-hand. Each participant wrote each character (from ’alef’ to ’yeh’) ten times. The images were scanned at the resolution of 300 dpi. Each block is segmented automatically using Matlab 2016a to determining the coordinates for each block. **The dataset is partitioned into two sets: a training set of 13,440 characters to 480 images per class and a test set of 3,360 characters to 120 images per class**. Writers of training set and test set are exclusive. Ordering of including writers to test set are randomized to make sure that writers of test set are not from a single institution to ensure variability of the test set."
      ]
    },
    {
      "cell_type": "markdown",
      "metadata": {
        "id": "m6_ru2oupR7h"
      },
      "source": [
        "## Data Exploration\n"
      ]
    },
    {
      "cell_type": "markdown",
      "metadata": {
        "id": "q2Z4_QkxppsF"
      },
      "source": [
        "1. We need to mount to google drive to be able to use the uploaded dataset files.\n"
      ]
    },
    {
      "cell_type": "code",
      "metadata": {
        "id": "qNoWN1Ts6SFr",
        "colab": {
          "base_uri": "https://localhost:8080/"
        },
        "outputId": "87e15660-5039-4c12-c4f4-2a6c2200cf50"
      },
      "source": [
        "from google.colab import drive\n",
        "drive.mount('/content/drive')"
      ],
      "execution_count": null,
      "outputs": [
        {
          "output_type": "stream",
          "name": "stdout",
          "text": [
            "Mounted at /content/drive\n"
          ]
        }
      ]
    },
    {
      "cell_type": "markdown",
      "metadata": {
        "id": "jJo8eDIRp5ku"
      },
      "source": [
        "2. Import libraries necessary for this project.\n"
      ]
    },
    {
      "cell_type": "code",
      "metadata": {
        "id": "v3o6mEbK6W9v"
      },
      "source": [
        "# Import main libraries necessary for this project\n",
        "import numpy as np\n",
        "import pandas as pd\n",
        "from IPython.display import display # Allows the use of display() for DataFrames\n",
        "\n",
        "# Import libraries needed for reading image and processing it\n",
        "import csv\n",
        "from PIL import Image\n",
        "from scipy.ndimage import rotate\n",
        "\n",
        "# Pretty display for notebooks\n",
        "%matplotlib inline"
      ],
      "execution_count": null,
      "outputs": []
    },
    {
      "cell_type": "markdown",
      "metadata": {
        "id": "X0ubj6mrqXku"
      },
      "source": [
        "3. Load the dataset files into dataframes to be used later in the project"
      ]
    },
    {
      "cell_type": "markdown",
      "metadata": {
        "id": "rGcWZ2BBrLrr"
      },
      "source": [
        "### Loading Arabic Letters Dataset"
      ]
    },
    {
      "cell_type": "code",
      "source": [
        "# Training letters images and labels files\n",
        "letters_training_images_file_path = \"drive/My Drive/ML Project/Datasets/Arabic Handwritten Characters Dataset CSV/training images.zip\"\n",
        "letters_training_labels_file_path = \"drive/My Drive/ML Project/Datasets/Arabic Handwritten Characters Dataset CSV/training labels.zip\"\n",
        "# Testing letters images and labels files\n",
        "letters_testing_images_file_path = \"drive/My Drive/ML Project/Datasets/Arabic Handwritten Characters Dataset CSV/testing images.zip\"\n",
        "letters_testing_labels_file_path = \"drive/My Drive/ML Project/Datasets/Arabic Handwritten Characters Dataset CSV/testing labels.zip\"\n",
        "\n",
        "# Loading dataset into dataframes\n",
        "training_letters_images = pd.read_csv(letters_training_images_file_path, compression='zip', header=None)\n",
        "training_letters_labels = pd.read_csv(letters_training_labels_file_path, compression='zip', header=None)\n",
        "testing_letters_images = pd.read_csv(letters_testing_images_file_path, compression='zip', header=None)\n",
        "testing_letters_labels = pd.read_csv(letters_testing_labels_file_path, compression='zip', header=None)\n",
        "\n",
        "# print statistics about the dataset\n",
        "print(\"There are %d training arabic letter images of 64x64 pixels.\" %training_letters_images.shape[0])\n",
        "print(\"There are %d testing arabic letter images of 64x64 pixels.\" %testing_letters_images.shape[0])\n",
        "training_letters_images.head()"
      ],
      "metadata": {
        "colab": {
          "base_uri": "https://localhost:8080/",
          "height": 270
        },
        "id": "OS83UlPHx_Pu",
        "outputId": "579e48b7-63dd-429b-e4ee-7c59b4bf80ef"
      },
      "execution_count": null,
      "outputs": [
        {
          "output_type": "stream",
          "name": "stdout",
          "text": [
            "There are 13440 training arabic letter images of 64x64 pixels.\n",
            "There are 3360 testing arabic letter images of 64x64 pixels.\n"
          ]
        },
        {
          "output_type": "execute_result",
          "data": {
            "text/plain": [
              "   0     1     2     3     4     5     6     7     8     9     ...  4086  \\\n",
              "0     0     0     0     0     0     0     0     0     0     0  ...     0   \n",
              "1     0     0     0     0     0     0     0     0     0     0  ...     0   \n",
              "2     0     0     0     0     0     0     0     0     0     0  ...     0   \n",
              "3     0     0     0     0     0     0     0     0     0     0  ...     0   \n",
              "4     0     0     0     0     0     0     0     0     0     0  ...     0   \n",
              "\n",
              "   4087  4088  4089  4090  4091  4092  4093  4094  4095  \n",
              "0     0     0     0     0     0     0     0     0     0  \n",
              "1     0     0     0     0     0     0     0     0     0  \n",
              "2     0     0     0     0     0     0     0     0     0  \n",
              "3     0     0     0     0     0     0     0     0     0  \n",
              "4     0     0     0     0     0     0     0     0     0  \n",
              "\n",
              "[5 rows x 4096 columns]"
            ],
            "text/html": [
              "\n",
              "  <div id=\"df-e451ca07-4788-4a41-96f6-da3c6d660085\">\n",
              "    <div class=\"colab-df-container\">\n",
              "      <div>\n",
              "<style scoped>\n",
              "    .dataframe tbody tr th:only-of-type {\n",
              "        vertical-align: middle;\n",
              "    }\n",
              "\n",
              "    .dataframe tbody tr th {\n",
              "        vertical-align: top;\n",
              "    }\n",
              "\n",
              "    .dataframe thead th {\n",
              "        text-align: right;\n",
              "    }\n",
              "</style>\n",
              "<table border=\"1\" class=\"dataframe\">\n",
              "  <thead>\n",
              "    <tr style=\"text-align: right;\">\n",
              "      <th></th>\n",
              "      <th>0</th>\n",
              "      <th>1</th>\n",
              "      <th>2</th>\n",
              "      <th>3</th>\n",
              "      <th>4</th>\n",
              "      <th>5</th>\n",
              "      <th>6</th>\n",
              "      <th>7</th>\n",
              "      <th>8</th>\n",
              "      <th>9</th>\n",
              "      <th>...</th>\n",
              "      <th>4086</th>\n",
              "      <th>4087</th>\n",
              "      <th>4088</th>\n",
              "      <th>4089</th>\n",
              "      <th>4090</th>\n",
              "      <th>4091</th>\n",
              "      <th>4092</th>\n",
              "      <th>4093</th>\n",
              "      <th>4094</th>\n",
              "      <th>4095</th>\n",
              "    </tr>\n",
              "  </thead>\n",
              "  <tbody>\n",
              "    <tr>\n",
              "      <th>0</th>\n",
              "      <td>0</td>\n",
              "      <td>0</td>\n",
              "      <td>0</td>\n",
              "      <td>0</td>\n",
              "      <td>0</td>\n",
              "      <td>0</td>\n",
              "      <td>0</td>\n",
              "      <td>0</td>\n",
              "      <td>0</td>\n",
              "      <td>0</td>\n",
              "      <td>...</td>\n",
              "      <td>0</td>\n",
              "      <td>0</td>\n",
              "      <td>0</td>\n",
              "      <td>0</td>\n",
              "      <td>0</td>\n",
              "      <td>0</td>\n",
              "      <td>0</td>\n",
              "      <td>0</td>\n",
              "      <td>0</td>\n",
              "      <td>0</td>\n",
              "    </tr>\n",
              "    <tr>\n",
              "      <th>1</th>\n",
              "      <td>0</td>\n",
              "      <td>0</td>\n",
              "      <td>0</td>\n",
              "      <td>0</td>\n",
              "      <td>0</td>\n",
              "      <td>0</td>\n",
              "      <td>0</td>\n",
              "      <td>0</td>\n",
              "      <td>0</td>\n",
              "      <td>0</td>\n",
              "      <td>...</td>\n",
              "      <td>0</td>\n",
              "      <td>0</td>\n",
              "      <td>0</td>\n",
              "      <td>0</td>\n",
              "      <td>0</td>\n",
              "      <td>0</td>\n",
              "      <td>0</td>\n",
              "      <td>0</td>\n",
              "      <td>0</td>\n",
              "      <td>0</td>\n",
              "    </tr>\n",
              "    <tr>\n",
              "      <th>2</th>\n",
              "      <td>0</td>\n",
              "      <td>0</td>\n",
              "      <td>0</td>\n",
              "      <td>0</td>\n",
              "      <td>0</td>\n",
              "      <td>0</td>\n",
              "      <td>0</td>\n",
              "      <td>0</td>\n",
              "      <td>0</td>\n",
              "      <td>0</td>\n",
              "      <td>...</td>\n",
              "      <td>0</td>\n",
              "      <td>0</td>\n",
              "      <td>0</td>\n",
              "      <td>0</td>\n",
              "      <td>0</td>\n",
              "      <td>0</td>\n",
              "      <td>0</td>\n",
              "      <td>0</td>\n",
              "      <td>0</td>\n",
              "      <td>0</td>\n",
              "    </tr>\n",
              "    <tr>\n",
              "      <th>3</th>\n",
              "      <td>0</td>\n",
              "      <td>0</td>\n",
              "      <td>0</td>\n",
              "      <td>0</td>\n",
              "      <td>0</td>\n",
              "      <td>0</td>\n",
              "      <td>0</td>\n",
              "      <td>0</td>\n",
              "      <td>0</td>\n",
              "      <td>0</td>\n",
              "      <td>...</td>\n",
              "      <td>0</td>\n",
              "      <td>0</td>\n",
              "      <td>0</td>\n",
              "      <td>0</td>\n",
              "      <td>0</td>\n",
              "      <td>0</td>\n",
              "      <td>0</td>\n",
              "      <td>0</td>\n",
              "      <td>0</td>\n",
              "      <td>0</td>\n",
              "    </tr>\n",
              "    <tr>\n",
              "      <th>4</th>\n",
              "      <td>0</td>\n",
              "      <td>0</td>\n",
              "      <td>0</td>\n",
              "      <td>0</td>\n",
              "      <td>0</td>\n",
              "      <td>0</td>\n",
              "      <td>0</td>\n",
              "      <td>0</td>\n",
              "      <td>0</td>\n",
              "      <td>0</td>\n",
              "      <td>...</td>\n",
              "      <td>0</td>\n",
              "      <td>0</td>\n",
              "      <td>0</td>\n",
              "      <td>0</td>\n",
              "      <td>0</td>\n",
              "      <td>0</td>\n",
              "      <td>0</td>\n",
              "      <td>0</td>\n",
              "      <td>0</td>\n",
              "      <td>0</td>\n",
              "    </tr>\n",
              "  </tbody>\n",
              "</table>\n",
              "<p>5 rows × 4096 columns</p>\n",
              "</div>\n",
              "      <button class=\"colab-df-convert\" onclick=\"convertToInteractive('df-e451ca07-4788-4a41-96f6-da3c6d660085')\"\n",
              "              title=\"Convert this dataframe to an interactive table.\"\n",
              "              style=\"display:none;\">\n",
              "        \n",
              "  <svg xmlns=\"http://www.w3.org/2000/svg\" height=\"24px\"viewBox=\"0 0 24 24\"\n",
              "       width=\"24px\">\n",
              "    <path d=\"M0 0h24v24H0V0z\" fill=\"none\"/>\n",
              "    <path d=\"M18.56 5.44l.94 2.06.94-2.06 2.06-.94-2.06-.94-.94-2.06-.94 2.06-2.06.94zm-11 1L8.5 8.5l.94-2.06 2.06-.94-2.06-.94L8.5 2.5l-.94 2.06-2.06.94zm10 10l.94 2.06.94-2.06 2.06-.94-2.06-.94-.94-2.06-.94 2.06-2.06.94z\"/><path d=\"M17.41 7.96l-1.37-1.37c-.4-.4-.92-.59-1.43-.59-.52 0-1.04.2-1.43.59L10.3 9.45l-7.72 7.72c-.78.78-.78 2.05 0 2.83L4 21.41c.39.39.9.59 1.41.59.51 0 1.02-.2 1.41-.59l7.78-7.78 2.81-2.81c.8-.78.8-2.07 0-2.86zM5.41 20L4 18.59l7.72-7.72 1.47 1.35L5.41 20z\"/>\n",
              "  </svg>\n",
              "      </button>\n",
              "      \n",
              "  <style>\n",
              "    .colab-df-container {\n",
              "      display:flex;\n",
              "      flex-wrap:wrap;\n",
              "      gap: 12px;\n",
              "    }\n",
              "\n",
              "    .colab-df-convert {\n",
              "      background-color: #E8F0FE;\n",
              "      border: none;\n",
              "      border-radius: 50%;\n",
              "      cursor: pointer;\n",
              "      display: none;\n",
              "      fill: #1967D2;\n",
              "      height: 32px;\n",
              "      padding: 0 0 0 0;\n",
              "      width: 32px;\n",
              "    }\n",
              "\n",
              "    .colab-df-convert:hover {\n",
              "      background-color: #E2EBFA;\n",
              "      box-shadow: 0px 1px 2px rgba(60, 64, 67, 0.3), 0px 1px 3px 1px rgba(60, 64, 67, 0.15);\n",
              "      fill: #174EA6;\n",
              "    }\n",
              "\n",
              "    [theme=dark] .colab-df-convert {\n",
              "      background-color: #3B4455;\n",
              "      fill: #D2E3FC;\n",
              "    }\n",
              "\n",
              "    [theme=dark] .colab-df-convert:hover {\n",
              "      background-color: #434B5C;\n",
              "      box-shadow: 0px 1px 3px 1px rgba(0, 0, 0, 0.15);\n",
              "      filter: drop-shadow(0px 1px 2px rgba(0, 0, 0, 0.3));\n",
              "      fill: #FFFFFF;\n",
              "    }\n",
              "  </style>\n",
              "\n",
              "      <script>\n",
              "        const buttonEl =\n",
              "          document.querySelector('#df-e451ca07-4788-4a41-96f6-da3c6d660085 button.colab-df-convert');\n",
              "        buttonEl.style.display =\n",
              "          google.colab.kernel.accessAllowed ? 'block' : 'none';\n",
              "\n",
              "        async function convertToInteractive(key) {\n",
              "          const element = document.querySelector('#df-e451ca07-4788-4a41-96f6-da3c6d660085');\n",
              "          const dataTable =\n",
              "            await google.colab.kernel.invokeFunction('convertToInteractive',\n",
              "                                                     [key], {});\n",
              "          if (!dataTable) return;\n",
              "\n",
              "          const docLinkHtml = 'Like what you see? Visit the ' +\n",
              "            '<a target=\"_blank\" href=https://colab.research.google.com/notebooks/data_table.ipynb>data table notebook</a>'\n",
              "            + ' to learn more about interactive tables.';\n",
              "          element.innerHTML = '';\n",
              "          dataTable['output_type'] = 'display_data';\n",
              "          await google.colab.output.renderOutput(dataTable, element);\n",
              "          const docLink = document.createElement('div');\n",
              "          docLink.innerHTML = docLinkHtml;\n",
              "          element.appendChild(docLink);\n",
              "        }\n",
              "      </script>\n",
              "    </div>\n",
              "  </div>\n",
              "  "
            ]
          },
          "metadata": {},
          "execution_count": 3
        }
      ]
    },
    {
      "cell_type": "markdown",
      "metadata": {
        "id": "LGFth_ks0VH4"
      },
      "source": [
        "### Convert csv values to an image \n",
        "Writting a method to be used later if we want visualization of an image from its pixels values."
      ]
    },
    {
      "cell_type": "code",
      "metadata": {
        "id": "2MbTUT_mMBGH"
      },
      "source": [
        "def convert_values_to_image(image_values, display=False):\n",
        "  image_array = np.asarray(image_values)\n",
        "  image_array = image_array.reshape(64, 64).astype('uint8')\n",
        "  # The original dataset is reflected so we will flip it then rotate for a better view only.\n",
        "  image_array = np.flip(image_array, 0)\n",
        "  image_array = rotate(image_array, -90)\n",
        "  new_image = Image.fromarray(image_array)\n",
        "  if display == True:\n",
        "    new_image.show()\n",
        "  return new_image"
      ],
      "execution_count": null,
      "outputs": []
    },
    {
      "cell_type": "code",
      "source": [
        "def convert_values_to_image_wtf(image_values, display=False):\n",
        "  image_array = np.asarray(image_values)\n",
        "  image_array = image_array.reshape(64, 64).astype('uint8')\n",
        "  # The original dataset is reflected so we will flip it then rotate for a better view only.\n",
        "  # image_array = np.flip(image_array, 0)\n",
        "  #image_array = rotate(image_array, -90)\n",
        "  new_image = Image.fromarray(image_array)\n",
        "  if display == True:\n",
        "    new_image.show()\n",
        "  return new_image"
      ],
      "metadata": {
        "id": "0tqiDQJfzS0T"
      },
      "execution_count": null,
      "outputs": []
    },
    {
      "cell_type": "markdown",
      "metadata": {
        "id": "MBwu1eDk0mjj"
      },
      "source": [
        "### Visualizing some examples"
      ]
    },
    {
      "cell_type": "code",
      "metadata": {
        "id": "pX4PxwqbyQg8",
        "colab": {
          "base_uri": "https://localhost:8080/",
          "height": 81
        },
        "outputId": "60ec2aa2-1227-45dc-b7fe-14c90c04e7b2"
      },
      "source": [
        "convert_values_to_image(training_letters_images.loc[0], True)"
      ],
      "execution_count": null,
      "outputs": [
        {
          "output_type": "execute_result",
          "data": {
            "text/plain": [
              "<PIL.Image.Image image mode=L size=64x64 at 0x7F3D608E82D0>"
            ],
            "image/png": "[encoded data removed]"
          },
          "metadata": {},
          "execution_count": 6
        }
      ]
    },
    {
      "cell_type": "code",
      "source": [
        "convert_values_to_image_wtf(training_letters_images.loc[0], True)"
      ],
      "metadata": {
        "colab": {
          "base_uri": "https://localhost:8080/",
          "height": 81
        },
        "id": "zNgjzYdzzYZG",
        "outputId": "9419d6f0-aacd-4209-a601-41108b8bfe40"
      },
      "execution_count": null,
      "outputs": [
        {
          "output_type": "execute_result",
          "data": {
            "text/plain": [
              "<PIL.Image.Image image mode=L size=64x64 at 0x7F3D5D7B2950>"
            ],
            "image/png": "[encoded data removed]"
          },
          "metadata": {},
          "execution_count": 7
        }
      ]
    },
    {
      "cell_type": "code",
      "metadata": {
        "id": "R0J_oTy0yeXb",
        "colab": {
          "base_uri": "https://localhost:8080/",
          "height": 81
        },
        "outputId": "3d8cd8d5-1b29-4ce1-a9aa-de86bc5499bd"
      },
      "source": [
        "convert_values_to_image(training_letters_images.loc[16], True)"
      ],
      "execution_count": null,
      "outputs": [
        {
          "output_type": "execute_result",
          "data": {
            "text/plain": [
              "<PIL.Image.Image image mode=L size=64x64 at 0x7F3D5D7B8E90>"
            ],
            "image/png": "[encoded data removed]"
          },
          "metadata": {},
          "execution_count": 8
        }
      ]
    },
    {
      "cell_type": "code",
      "metadata": {
        "id": "IVwNBEIj2dcK",
        "colab": {
          "base_uri": "https://localhost:8080/",
          "height": 81
        },
        "outputId": "717b7d69-e5fe-4d28-a94a-537a19e22ae3"
      },
      "source": [
        "convert_values_to_image(training_letters_images.loc[37], True)"
      ],
      "execution_count": null,
      "outputs": [
        {
          "output_type": "execute_result",
          "data": {
            "text/plain": [
              "<PIL.Image.Image image mode=L size=64x64 at 0x7F3D608E80D0>"
            ],
            "image/png": "[encoded data removed]"
          },
          "metadata": {},
          "execution_count": 9
        }
      ]
    },
    {
      "cell_type": "code",
      "source": [
        "convert_values_to_image(training_letters_images.loc[4008], True)"
      ],
      "metadata": {
        "colab": {
          "base_uri": "https://localhost:8080/",
          "height": 81
        },
        "id": "LbLFOTBvvx9d",
        "outputId": "d2d2f7ac-1c2a-4c4e-c567-1c8d938f3580"
      },
      "execution_count": null,
      "outputs": [
        {
          "output_type": "execute_result",
          "data": {
            "text/plain": [
              "<PIL.Image.Image image mode=L size=64x64 at 0x7F3D5D7B2710>"
            ],
            "image/png": "[encoded data removed]"
          },
          "metadata": {},
          "execution_count": 10
        }
      ]
    },
    {
      "cell_type": "code",
      "metadata": {
        "id": "pNKxXW5-2fl9",
        "colab": {
          "base_uri": "https://localhost:8080/",
          "height": 81
        },
        "outputId": "e67ee0fd-ad22-40b0-e66b-0165adfc2779"
      },
      "source": [
        "convert_values_to_image(training_letters_images.loc[3000], True)"
      ],
      "execution_count": null,
      "outputs": [
        {
          "output_type": "execute_result",
          "data": {
            "text/plain": [
              "<PIL.Image.Image image mode=L size=64x64 at 0x7F3D5D7C0A50>"
            ],
            "image/png": "[encoded data removed]"
          },
          "metadata": {},
          "execution_count": 11
        }
      ]
    },
    {
      "cell_type": "markdown",
      "metadata": {
        "id": "ZZT4fEuLoLXw"
      },
      "source": [
        "## Data Preprocessing"
      ]
    },
    {
      "cell_type": "markdown",
      "metadata": {
        "id": "TZH8hpO_qgem"
      },
      "source": [
        "### Image Normalization\n",
        "We rescale the images by dividing every pixel in the image by 255 to make them into range [0, 1]"
      ]
    },
    {
      "cell_type": "code",
      "metadata": {
        "id": "1HJI0WG0oNmT"
      },
      "source": [
        "training_letters_images_scaled = training_letters_images.values.astype('float32')/255\n",
        "training_letters_labels = training_letters_labels.values.astype('int32')\n",
        "testing_letters_images_scaled = testing_letters_images.values.astype('float32')/255\n",
        "testing_letters_labels = testing_letters_labels.values.astype('int32')"
      ],
      "execution_count": null,
      "outputs": []
    },
    {
      "cell_type": "code",
      "metadata": {
        "id": "n68sxKC0sTkq",
        "colab": {
          "base_uri": "https://localhost:8080/"
        },
        "outputId": "34e05882-f93c-4cb8-d040-f638980da533"
      },
      "source": [
        "print(\"Training images of letters after scaling\")\n",
        "print(training_letters_images_scaled.shape)\n",
        "training_letters_images_scaled[0:5]"
      ],
      "execution_count": null,
      "outputs": [
        {
          "output_type": "stream",
          "name": "stdout",
          "text": [
            "Training images of letters after scaling\n",
            "(13440, 4096)\n"
          ]
        },
        {
          "output_type": "execute_result",
          "data": {
            "text/plain": [
              "array([[0., 0., 0., ..., 0., 0., 0.],\n",
              "       [0., 0., 0., ..., 0., 0., 0.],\n",
              "       [0., 0., 0., ..., 0., 0., 0.],\n",
              "       [0., 0., 0., ..., 0., 0., 0.],\n",
              "       [0., 0., 0., ..., 0., 0., 0.]], dtype=float32)"
            ]
          },
          "metadata": {},
          "execution_count": 13
        }
      ]
    },
    {
      "cell_type": "markdown",
      "metadata": {
        "id": "T-X1SJjnsq8b"
      },
      "source": [
        "### Encoding Categorical Labels\n",
        "From the labels csv files we can see that labels are categorical values and it is a multi-class classification problem. \n",
        "\n",
        "Our outputs are in the form of:\n",
        "* Letters from ’alef’ to ’yeh’ have categories numbers from 10 to 37. Then we will convert it from 0 to 27\n",
        "\n",
        "**Here we will encode these categories values using One Hot Encoding with keras.**\n",
        "\n",
        "One-hot encoding transforms integer to a binary matrix where the array contains only one ‘1’ and the rest elements are ‘0’.\n",
        "\n"
      ]
    },
    {
      "cell_type": "code",
      "metadata": {
        "id": "uQyT17YzsU7U"
      },
      "source": [
        "from tensorflow.keras.utils import to_categorical\n",
        "\n",
        "# one hot encoding\n",
        "# number of classes = 10 (digits classes) + 28 (arabic alphabet classes)\n",
        "number_of_classes = 38\n",
        "training_letters_labels_encoded = to_categorical(training_letters_labels, num_classes=number_of_classes)\n",
        "testing_letters_labels_encoded = to_categorical(testing_letters_labels, num_classes=number_of_classes)"
      ],
      "execution_count": null,
      "outputs": []
    },
    {
      "cell_type": "code",
      "source": [
        "index = [0, 1, 2, 3, 4, 5, 6, 7, 8, 9]"
      ],
      "metadata": {
        "id": "pHz4lGjG2gzn"
      },
      "execution_count": null,
      "outputs": []
    },
    {
      "cell_type": "code",
      "source": [
        "training_letters_labels_encoded_28 = []\n",
        "for i in range (len(training_letters_labels_encoded)):\n",
        "  training_letters_labels_encoded_28.append(np.delete(training_letters_labels_encoded[i], index))\n",
        "\n",
        "training_letters_labels_encoded_28_arr = np.array(training_letters_labels_encoded_28)"
      ],
      "metadata": {
        "id": "D1v7uKMlzZ_C"
      },
      "execution_count": null,
      "outputs": []
    },
    {
      "cell_type": "code",
      "source": [
        "testing_letters_labels_encoded_28 = []\n",
        "for i in range (len(testing_letters_labels_encoded)):\n",
        "  testing_letters_labels_encoded_28.append(np.delete(testing_letters_labels_encoded[i], index))\n",
        "\n",
        "testing_letters_labels_encoded_28_arr = np.array(testing_letters_labels_encoded_28)"
      ],
      "metadata": {
        "id": "puEZsWFv3qI-"
      },
      "execution_count": null,
      "outputs": []
    },
    {
      "cell_type": "code",
      "metadata": {
        "id": "9CyoYTDl1BXD",
        "colab": {
          "base_uri": "https://localhost:8080/"
        },
        "outputId": "e821ef41-3c3f-45fb-df99-3a36472597fc"
      },
      "source": [
        "print(training_letters_labels_encoded_28_arr)"
      ],
      "execution_count": null,
      "outputs": [
        {
          "output_type": "stream",
          "name": "stdout",
          "text": [
            "[[1. 0. 0. ... 0. 0. 0.]\n",
            " [1. 0. 0. ... 0. 0. 0.]\n",
            " [1. 0. 0. ... 0. 0. 0.]\n",
            " ...\n",
            " [0. 0. 0. ... 0. 0. 1.]\n",
            " [0. 0. 0. ... 0. 0. 1.]\n",
            " [0. 0. 0. ... 0. 0. 1.]]\n"
          ]
        }
      ]
    },
    {
      "cell_type": "markdown",
      "metadata": {
        "id": "nsJzI6Gp5bbA"
      },
      "source": [
        "### Reshaping Input Images to 64x64x1\n"
      ]
    },
    {
      "cell_type": "markdown",
      "metadata": {
        "id": "VDldXMz76EQH"
      },
      "source": [
        "When using TensorFlow as backend, Keras CNNs require a 4D array (which we'll also refer to as a 4D tensor) as input, with shape\n",
        "(nb_samples,rows,columns,channels)\n",
        "\n",
        "where nb_samples corresponds to the total number of images (or samples), and rows, columns, and channels correspond to the number of rows, columns, and channels for each image, respectively.\n",
        "\n",
        "**So we will reshape the input images to a 4D tensor with shape\n",
        "(nb_samples, 64, 64 ,1)** as we use grayscale images of 64x64 pixels."
      ]
    },
    {
      "cell_type": "code",
      "metadata": {
        "id": "EWTQ0nq85wWL",
        "colab": {
          "base_uri": "https://localhost:8080/"
        },
        "outputId": "d03274a3-8406-459b-abf7-918aa26d9050"
      },
      "source": [
        "# reshape input letter images to 64x64x1\n",
        "training_letters_images_scaled = training_letters_images_scaled.reshape([-1, 64, 64, 1])\n",
        "testing_letters_images_scaled = testing_letters_images_scaled.reshape([-1, 64, 64, 1])\n",
        "\n",
        "print(training_letters_images_scaled.shape, training_letters_labels_encoded_28_arr.shape, testing_letters_images_scaled.shape, testing_letters_labels_encoded_28_arr.shape)"
      ],
      "execution_count": null,
      "outputs": [
        {
          "output_type": "stream",
          "name": "stdout",
          "text": [
            "(13440, 64, 64, 1) (13440, 28) (3360, 64, 64, 1) (3360, 28)\n"
          ]
        }
      ]
    },
    {
      "cell_type": "markdown",
      "metadata": {
        "id": "Gtsr1vVaYS9D"
      },
      "source": [
        "### Merging Letters and Digits Datasets"
      ]
    },
    {
      "cell_type": "code",
      "metadata": {
        "id": "1bdfCcFpYpA_",
        "colab": {
          "base_uri": "https://localhost:8080/"
        },
        "outputId": "858b184a-666d-4819-deeb-e8667b9c3a33"
      },
      "source": [
        "training_data_images = training_letters_images_scaled \n",
        "training_data_labels = training_letters_labels_encoded_28_arr\n",
        "print(\"Total Training images are {} images of shape\".format(training_data_images.shape[0]))\n",
        "print(training_data_images.shape, training_data_labels.shape)\n",
        "\n",
        "\n",
        "testing_data_images = testing_letters_images_scaled\n",
        "testing_data_labels = testing_letters_labels_encoded_28_arr\n",
        "print(\"Total Testing images are {} images of shape\".format(testing_data_images.shape[0]))\n",
        "print(testing_data_images.shape, testing_data_labels.shape)\n"
      ],
      "execution_count": null,
      "outputs": [
        {
          "output_type": "stream",
          "name": "stdout",
          "text": [
            "Total Training images are 13440 images of shape\n",
            "(13440, 64, 64, 1) (13440, 28)\n",
            "Total Testing images are 3360 images of shape\n",
            "(3360, 64, 64, 1) (3360, 28)\n"
          ]
        }
      ]
    },
    {
      "cell_type": "markdown",
      "metadata": {
        "id": "bsZR7mb89UoI"
      },
      "source": [
        "## Designing Model Architecture"
      ]
    },
    {
      "cell_type": "markdown",
      "metadata": {
        "id": "7DImv-hIKSOf"
      },
      "source": [
        "Now we will make a method which creates the model architecture with the specified optimizer and activation functions."
      ]
    },
    {
      "cell_type": "code",
      "metadata": {
        "id": "iHOTAM-w79Ak"
      },
      "source": [
        "from keras.models import Sequential\n",
        "from keras.layers import Conv2D, MaxPooling2D, GlobalAveragePooling2D, BatchNormalization, Dropout, Dense\n",
        "\n",
        "def create_model(optimizer='adam', kernel_initializer='he_normal', activation='relu'):\n",
        "  # create model\n",
        "  model = Sequential()\n",
        "  model.add(Conv2D(filters=16, kernel_size=3, padding='same', input_shape=(64, 64, 1), kernel_initializer=kernel_initializer, activation=activation))\n",
        "  model.add(BatchNormalization())\n",
        "  model.add(MaxPooling2D(pool_size=2))\n",
        "  model.add(Dropout(0.2))\n",
        "\n",
        "  model.add(Conv2D(filters=32, kernel_size=3, padding='same', kernel_initializer=kernel_initializer, activation=activation))\n",
        "  model.add(BatchNormalization())\n",
        "  model.add(MaxPooling2D(pool_size=2))\n",
        "  model.add(Dropout(0.2))\n",
        "\n",
        "  model.add(Conv2D(filters=64, kernel_size=3, padding='same', kernel_initializer=kernel_initializer, activation=activation))\n",
        "  model.add(BatchNormalization())\n",
        "  model.add(MaxPooling2D(pool_size=2))\n",
        "  model.add(Dropout(0.2))\n",
        "\n",
        "  model.add(Conv2D(filters=128, kernel_size=3, padding='same', kernel_initializer=kernel_initializer, activation=activation))\n",
        "  model.add(BatchNormalization())\n",
        "  model.add(MaxPooling2D(pool_size=2))\n",
        "  model.add(Dropout(0.2))\n",
        "  model.add(GlobalAveragePooling2D())\n",
        "  \n",
        "  #Fully connected final layer\n",
        "  model.add(Dense(28, activation='softmax'))\n",
        "\n",
        "  # Compile model\n",
        "  model.compile(loss='categorical_crossentropy', metrics=['accuracy'], optimizer=optimizer)\n",
        "  return model"
      ],
      "execution_count": null,
      "outputs": []
    },
    {
      "cell_type": "markdown",
      "metadata": {
        "id": "Wuqb1snmHPqW"
      },
      "source": [
        "Let’s understand above code step by step.\n",
        "\n",
        "* The first hidden layer is a convolutional layer. The layer has 16 feature maps, which with the size of 3×3 and an activation function which is relu. This is the input layer, expecting images with the structure outlined above.\n",
        "* The second layer is Batch Normalization which solves having distributions of the features vary across the training and test data, which breaks the IID assumption. We use it to help in two ways faster learning and higher overall accuracy. \n",
        "* The third layer is the MaxPooling layer. MaxPooling layer is used to down-sample the input to enable the model to make assumptions about the features so as to reduce overfitting. It also reduces the number of parameters to learn, reducing the training time.\n",
        "* The next layer is a Regularization layer using dropout. It is configured to randomly exclude 20% of neurons in the layer in order to reduce overfitting.\n",
        "* Another hidden layer with 32 feature maps with the size of 3×3 and a relu activation function to capture more features from the image.\n",
        "* Other hidden layers with 64 and 128 feature maps with the size of 3×3 and a relu activation function to capture complex patterns from the image which will decribe the digits and letters later.\n",
        "* More MaxPooling, Batch Normalization, Regularization and GlobalAveragePooling2D layers.\n",
        "* The last layer is the output layer with 28 neurons (number of output classes) and it uses softmax activation function as we have multi-classes. Each neuron will give the probability of that class.\n",
        "\n",
        "I used categorical_crossentropy as a loss function because its a multi-class classification problem. I used accuracy as metrics to improve the performance of our neural network."
      ]
    },
    {
      "cell_type": "markdown",
      "metadata": {
        "id": "_GdoRPe6LiRV"
      },
      "source": [
        "## Model Summary And Visualization"
      ]
    },
    {
      "cell_type": "markdown",
      "metadata": {
        "id": "RLAADtoKMkcB"
      },
      "source": [
        "Let's see the model summary."
      ]
    },
    {
      "cell_type": "code",
      "metadata": {
        "id": "GzgiwjyPLmrp",
        "colab": {
          "base_uri": "https://localhost:8080/"
        },
        "outputId": "b9027c18-449e-4603-f09c-59b6874ffff8"
      },
      "source": [
        "model = create_model()\n",
        "model.summary()"
      ],
      "execution_count": null,
      "outputs": [
        {
          "output_type": "stream",
          "name": "stdout",
          "text": [
            "Model: \"sequential\"\n",
            "_________________________________________________________________\n",
            " Layer (type)                Output Shape              Param #   \n",
            "=================================================================\n",
            " conv2d (Conv2D)             (None, 64, 64, 16)        160       \n",
            "                                                                 \n",
            " batch_normalization (BatchN  (None, 64, 64, 16)       64        \n",
            " ormalization)                                                   \n",
            "                                                                 \n",
            " max_pooling2d (MaxPooling2D  (None, 32, 32, 16)       0         \n",
            " )                                                               \n",
            "                                                                 \n",
            " dropout (Dropout)           (None, 32, 32, 16)        0         \n",
            "                                                                 \n",
            " conv2d_1 (Conv2D)           (None, 32, 32, 32)        4640      \n",
            "                                                                 \n",
            " batch_normalization_1 (Batc  (None, 32, 32, 32)       128       \n",
            " hNormalization)                                                 \n",
            "                                                                 \n",
            " max_pooling2d_1 (MaxPooling  (None, 16, 16, 32)       0         \n",
            " 2D)                                                             \n",
            "                                                                 \n",
            " dropout_1 (Dropout)         (None, 16, 16, 32)        0         \n",
            "                                                                 \n",
            " conv2d_2 (Conv2D)           (None, 16, 16, 64)        18496     \n",
            "                                                                 \n",
            " batch_normalization_2 (Batc  (None, 16, 16, 64)       256       \n",
            " hNormalization)                                                 \n",
            "                                                                 \n",
            " max_pooling2d_2 (MaxPooling  (None, 8, 8, 64)         0         \n",
            " 2D)                                                             \n",
            "                                                                 \n",
            " dropout_2 (Dropout)         (None, 8, 8, 64)          0         \n",
            "                                                                 \n",
            " conv2d_3 (Conv2D)           (None, 8, 8, 128)         73856     \n",
            "                                                                 \n",
            " batch_normalization_3 (Batc  (None, 8, 8, 128)        512       \n",
            " hNormalization)                                                 \n",
            "                                                                 \n",
            " max_pooling2d_3 (MaxPooling  (None, 4, 4, 128)        0         \n",
            " 2D)                                                             \n",
            "                                                                 \n",
            " dropout_3 (Dropout)         (None, 4, 4, 128)         0         \n",
            "                                                                 \n",
            " global_average_pooling2d (G  (None, 128)              0         \n",
            " lobalAveragePooling2D)                                          \n",
            "                                                                 \n",
            " dense (Dense)               (None, 28)                3612      \n",
            "                                                                 \n",
            "=================================================================\n",
            "Total params: 101,724\n",
            "Trainable params: 101,244\n",
            "Non-trainable params: 480\n",
            "_________________________________________________________________\n"
          ]
        }
      ]
    },
    {
      "cell_type": "markdown",
      "metadata": {
        "id": "F-WXi7zkLxuN"
      },
      "source": [
        "Keras support plotting the model in keras.utils.vis_utils module which provides utility functions to plot a Keras model using graphviz.\n",
        "\n",
        "To be able to use that utility we should first install pydot and graphviz modules. This can be done by running the following code cell then restart the runtime environment."
      ]
    },
    {
      "cell_type": "code",
      "metadata": {
        "id": "uIL81Yib39V6"
      },
      "source": [
        "# https://pypi.python.org/pypi/pydot\n",
        "!apt-get -qq install -y graphviz && pip install -q pydot\n",
        "import pydot"
      ],
      "execution_count": null,
      "outputs": []
    },
    {
      "cell_type": "markdown",
      "metadata": {
        "id": "eyEMpJx3MttP"
      },
      "source": [
        "Now we can plot the model and save it to a file also."
      ]
    },
    {
      "cell_type": "code",
      "metadata": {
        "id": "B1zpgDtwMtEU",
        "colab": {
          "base_uri": "https://localhost:8080/",
          "height": 1000
        },
        "outputId": "bb118615-5dd1-4da6-8607-9b576df9ae70"
      },
      "source": [
        "from tensorflow.keras.utils import plot_model\n",
        "\n",
        "plot_model(model, to_file=\"model.png\", show_shapes=True)\n",
        "from IPython.display import Image as IPythonImage\n",
        "display(IPythonImage('model.png'))"
      ],
      "execution_count": null,
      "outputs": [
        {
          "output_type": "display_data",
          "data": {
            "text/plain": [
              "<IPython.core.display.Image object>"
            ],
            "image/png": "[encoded data removed]"
          },
          "metadata": {}
        }
      ]
    },
    {
      "cell_type": "markdown",
      "metadata": {
        "id": "XKburGrWjUug"
      },
      "source": [
        "## Parameters Tuning"
      ]
    },
    {
      "cell_type": "markdown",
      "metadata": {
        "id": "TgVoF_U9ifx0"
      },
      "source": [
        "**From the results of pre defined model we can see that best parameters are:**\n",
        "* **Optimizer: Adam**\n",
        "* **Kernel_initializer: uniform**\n",
        "* **Activation: relu** "
      ]
    },
    {
      "cell_type": "markdown",
      "metadata": {
        "id": "Nt9JJvWzjKpf"
      },
      "source": [
        "Let's create the model with the best parameters obtained."
      ]
    },
    {
      "cell_type": "code",
      "metadata": {
        "id": "TQ61tTgthNX3"
      },
      "source": [
        "model = create_model(optimizer='Adam', kernel_initializer='uniform', activation='relu')"
      ],
      "execution_count": null,
      "outputs": []
    },
    {
      "cell_type": "markdown",
      "metadata": {
        "id": "SAyJLJOsJdKY"
      },
      "source": [
        "## Training the Model\n"
      ]
    },
    {
      "cell_type": "markdown",
      "metadata": {
        "id": "9REBW24cmdKI"
      },
      "source": [
        "### Fitting the Model"
      ]
    },
    {
      "cell_type": "markdown",
      "metadata": {
        "id": "i8GiTDtRkZTp"
      },
      "source": [
        "Train the model using batch_size=20 to reduce used memory and make the training more quick.\n",
        "We will train the model first on 10 epochs to see the accuracy that we will obtain."
      ]
    },
    {
      "cell_type": "code",
      "metadata": {
        "id": "fOtKJTQ51qC5",
        "colab": {
          "base_uri": "https://localhost:8080/"
        },
        "outputId": "358362d0-a660-448c-82b2-a9b4fa0a90ae"
      },
      "source": [
        "from keras.callbacks import ModelCheckpoint  \n",
        "\n",
        "# using checkpoints to save model weights to be used later instead of training again on the same epochs.\n",
        "checkpointer = ModelCheckpoint(filepath='weights.hdf5', verbose=1, save_best_only=True)\n",
        "history = model.fit(training_data_images, training_data_labels, \n",
        "                    validation_data=(testing_data_images, testing_data_labels),\n",
        "                    epochs=10, batch_size=20, verbose=1, callbacks=[checkpointer])"
      ],
      "execution_count": null,
      "outputs": [
        {
          "output_type": "stream",
          "name": "stdout",
          "text": [
            "Epoch 1/10\n",
            "672/672 [==============================] - ETA: 0s - loss: 1.3728 - accuracy: 0.6289\n",
            "Epoch 1: val_loss improved from inf to 2.62958, saving model to weights.hdf5\n",
            "672/672 [==============================] - 22s 16ms/step - loss: 1.3728 - accuracy: 0.6289 - val_loss: 2.6296 - val_accuracy: 0.1378\n",
            "Epoch 2/10\n",
            "667/672 [============================>.] - ETA: 0s - loss: 0.4050 - accuracy: 0.8956\n",
            "Epoch 2: val_loss improved from 2.62958 to 0.86714, saving model to weights.hdf5\n",
            "672/672 [==============================] - 7s 10ms/step - loss: 0.4040 - accuracy: 0.8958 - val_loss: 0.8671 - val_accuracy: 0.8188\n",
            "Epoch 3/10\n",
            "672/672 [==============================] - ETA: 0s - loss: 0.2739 - accuracy: 0.9228\n",
            "Epoch 3: val_loss improved from 0.86714 to 0.28942, saving model to weights.hdf5\n",
            "672/672 [==============================] - 9s 14ms/step - loss: 0.2739 - accuracy: 0.9228 - val_loss: 0.2894 - val_accuracy: 0.9116\n",
            "Epoch 4/10\n",
            "670/672 [============================>.] - ETA: 0s - loss: 0.2211 - accuracy: 0.9368\n",
            "Epoch 4: val_loss improved from 0.28942 to 0.24805, saving model to weights.hdf5\n",
            "672/672 [==============================] - 8s 11ms/step - loss: 0.2210 - accuracy: 0.9368 - val_loss: 0.2481 - val_accuracy: 0.9482\n",
            "Epoch 5/10\n",
            "671/672 [============================>.] - ETA: 0s - loss: 0.1976 - accuracy: 0.9411\n",
            "Epoch 5: val_loss did not improve from 0.24805\n",
            "672/672 [==============================] - 9s 13ms/step - loss: 0.1978 - accuracy: 0.9411 - val_loss: 0.2812 - val_accuracy: 0.9179\n",
            "Epoch 6/10\n",
            "671/672 [============================>.] - ETA: 0s - loss: 0.1783 - accuracy: 0.9466\n",
            "Epoch 6: val_loss did not improve from 0.24805\n",
            "672/672 [==============================] - 9s 13ms/step - loss: 0.1782 - accuracy: 0.9467 - val_loss: 0.3648 - val_accuracy: 0.9048\n",
            "Epoch 7/10\n",
            "667/672 [============================>.] - ETA: 0s - loss: 0.1575 - accuracy: 0.9528\n",
            "Epoch 7: val_loss did not improve from 0.24805\n",
            "672/672 [==============================] - 6s 10ms/step - loss: 0.1586 - accuracy: 0.9526 - val_loss: 2.6643 - val_accuracy: 0.4411\n",
            "Epoch 8/10\n",
            "669/672 [============================>.] - ETA: 0s - loss: 0.1381 - accuracy: 0.9581\n",
            "Epoch 8: val_loss did not improve from 0.24805\n",
            "672/672 [==============================] - 6s 9ms/step - loss: 0.1379 - accuracy: 0.9583 - val_loss: 0.4587 - val_accuracy: 0.9196\n",
            "Epoch 9/10\n",
            "667/672 [============================>.] - ETA: 0s - loss: 0.1310 - accuracy: 0.9598\n",
            "Epoch 9: val_loss did not improve from 0.24805\n",
            "672/672 [==============================] - 6s 9ms/step - loss: 0.1321 - accuracy: 0.9596 - val_loss: 14.8345 - val_accuracy: 0.3092\n",
            "Epoch 10/10\n",
            "667/672 [============================>.] - ETA: 0s - loss: 0.1232 - accuracy: 0.9606\n",
            "Epoch 10: val_loss improved from 0.24805 to 0.15553, saving model to weights.hdf5\n",
            "672/672 [==============================] - 7s 10ms/step - loss: 0.1231 - accuracy: 0.9606 - val_loss: 0.1555 - val_accuracy: 0.9568\n"
          ]
        }
      ]
    },
    {
      "cell_type": "markdown",
      "source": [
        "## Saving the Final Model"
      ],
      "metadata": {
        "id": "yWYWurOLlHia"
      }
    },
    {
      "cell_type": "code",
      "source": [
        "!pip install tensorflowjs\n",
        "import keras\n",
        "import tensorflowjs as tfjs\n",
        "tfjs.converters.save_keras_model(model, './tfjs_models')\n",
        "!zip -r ./tfjs_files_digit_only.zip ./tfjs_models/\n",
        "from google.colab import files\n",
        "files.download(\"./tfjs_files_digit_only.zip\")"
      ],
      "metadata": {
        "colab": {
          "base_uri": "https://localhost:8080/",
          "height": 974
        },
        "id": "MKRFD_1SoFtI",
        "outputId": "32453568-70b2-4aeb-8e63-60b1fec7b256"
      },
      "execution_count": null,
      "outputs": [
        {
          "output_type": "stream",
          "name": "stdout",
          "text": [
            "Collecting tensorflowjs\n",
            "  Downloading tensorflowjs-3.15.0-py3-none-any.whl (77 kB)\n",
            "\u001b[?25l\r\u001b[K     |████▎                           | 10 kB 34.5 MB/s eta 0:00:01\r\u001b[K     |████████▌                       | 20 kB 34.7 MB/s eta 0:00:01\r\u001b[K     |████████████▊                   | 30 kB 39.8 MB/s eta 0:00:01\r\u001b[K     |█████████████████               | 40 kB 37.0 MB/s eta 0:00:01\r\u001b[K     |█████████████████████▏          | 51 kB 40.2 MB/s eta 0:00:01\r\u001b[K     |█████████████████████████▍      | 61 kB 44.6 MB/s eta 0:00:01\r\u001b[K     |█████████████████████████████▋  | 71 kB 33.3 MB/s eta 0:00:01\r\u001b[K     |████████████████████████████████| 77 kB 6.7 MB/s \n",
            "\u001b[?25hRequirement already satisfied: tensorflow-hub<0.13,>=0.7.0 in /usr/local/lib/python3.7/dist-packages (from tensorflowjs) (0.12.0)\n",
            "Requirement already satisfied: tensorflow<3,>=2.1.0 in /usr/local/lib/python3.7/dist-packages (from tensorflowjs) (2.8.0)\n",
            "Requirement already satisfied: six<2,>=1.12.0 in /usr/local/lib/python3.7/dist-packages (from tensorflowjs) (1.15.0)\n",
            "Requirement already satisfied: libclang>=9.0.1 in /usr/local/lib/python3.7/dist-packages (from tensorflow<3,>=2.1.0->tensorflowjs) (14.0.1)\n",
            "Requirement already satisfied: astunparse>=1.6.0 in /usr/local/lib/python3.7/dist-packages (from tensorflow<3,>=2.1.0->tensorflowjs) (1.6.3)\n",
            "Requirement already satisfied: gast>=0.2.1 in /usr/local/lib/python3.7/dist-packages (from tensorflow<3,>=2.1.0->tensorflowjs) (0.5.3)\n",
            "Requirement already satisfied: tensorflow-io-gcs-filesystem>=0.23.1 in /usr/local/lib/python3.7/dist-packages (from tensorflow<3,>=2.1.0->tensorflowjs) (0.25.0)\n",
            "Requirement already satisfied: keras-preprocessing>=1.1.1 in /usr/local/lib/python3.7/dist-packages (from tensorflow<3,>=2.1.0->tensorflowjs) (1.1.2)\n",
            "Requirement already satisfied: setuptools in /usr/local/lib/python3.7/dist-packages (from tensorflow<3,>=2.1.0->tensorflowjs) (57.4.0)\n",
            "Requirement already satisfied: grpcio<2.0,>=1.24.3 in /usr/local/lib/python3.7/dist-packages (from tensorflow<3,>=2.1.0->tensorflowjs) (1.44.0)\n",
            "Requirement already satisfied: tensorboard<2.9,>=2.8 in /usr/local/lib/python3.7/dist-packages (from tensorflow<3,>=2.1.0->tensorflowjs) (2.8.0)\n",
            "Requirement already satisfied: flatbuffers>=1.12 in /usr/local/lib/python3.7/dist-packages (from tensorflow<3,>=2.1.0->tensorflowjs) (2.0)\n",
            "Requirement already satisfied: termcolor>=1.1.0 in /usr/local/lib/python3.7/dist-packages (from tensorflow<3,>=2.1.0->tensorflowjs) (1.1.0)\n",
            "Collecting tf-estimator-nightly==2.8.0.dev2021122109\n",
            "  Downloading tf_estimator_nightly-2.8.0.dev2021122109-py2.py3-none-any.whl (462 kB)\n",
            "\u001b[K     |████████████████████████████████| 462 kB 53.1 MB/s \n",
            "\u001b[?25hRequirement already satisfied: opt-einsum>=2.3.2 in /usr/local/lib/python3.7/dist-packages (from tensorflow<3,>=2.1.0->tensorflowjs) (3.3.0)\n",
            "Requirement already satisfied: google-pasta>=0.1.1 in /usr/local/lib/python3.7/dist-packages (from tensorflow<3,>=2.1.0->tensorflowjs) (0.2.0)\n",
            "Requirement already satisfied: h5py>=2.9.0 in /usr/local/lib/python3.7/dist-packages (from tensorflow<3,>=2.1.0->tensorflowjs) (3.1.0)\n",
            "Requirement already satisfied: wrapt>=1.11.0 in /usr/local/lib/python3.7/dist-packages (from tensorflow<3,>=2.1.0->tensorflowjs) (1.14.0)\n",
            "Requirement already satisfied: protobuf>=3.9.2 in /usr/local/lib/python3.7/dist-packages (from tensorflow<3,>=2.1.0->tensorflowjs) (3.17.3)\n",
            "Requirement already satisfied: absl-py>=0.4.0 in /usr/local/lib/python3.7/dist-packages (from tensorflow<3,>=2.1.0->tensorflowjs) (1.0.0)\n",
            "Requirement already satisfied: typing-extensions>=3.6.6 in /usr/local/lib/python3.7/dist-packages (from tensorflow<3,>=2.1.0->tensorflowjs) (4.2.0)\n",
            "Requirement already satisfied: numpy>=1.20 in /usr/local/lib/python3.7/dist-packages (from tensorflow<3,>=2.1.0->tensorflowjs) (1.21.6)\n",
            "Requirement already satisfied: keras<2.9,>=2.8.0rc0 in /usr/local/lib/python3.7/dist-packages (from tensorflow<3,>=2.1.0->tensorflowjs) (2.8.0)\n",
            "Requirement already satisfied: wheel<1.0,>=0.23.0 in /usr/local/lib/python3.7/dist-packages (from astunparse>=1.6.0->tensorflow<3,>=2.1.0->tensorflowjs) (0.37.1)\n",
            "Requirement already satisfied: cached-property in /usr/local/lib/python3.7/dist-packages (from h5py>=2.9.0->tensorflow<3,>=2.1.0->tensorflowjs) (1.5.2)\n",
            "Requirement already satisfied: google-auth-oauthlib<0.5,>=0.4.1 in /usr/local/lib/python3.7/dist-packages (from tensorboard<2.9,>=2.8->tensorflow<3,>=2.1.0->tensorflowjs) (0.4.6)\n",
            "Requirement already satisfied: requests<3,>=2.21.0 in /usr/local/lib/python3.7/dist-packages (from tensorboard<2.9,>=2.8->tensorflow<3,>=2.1.0->tensorflowjs) (2.23.0)\n",
            "Requirement already satisfied: tensorboard-data-server<0.7.0,>=0.6.0 in /usr/local/lib/python3.7/dist-packages (from tensorboard<2.9,>=2.8->tensorflow<3,>=2.1.0->tensorflowjs) (0.6.1)\n",
            "Requirement already satisfied: werkzeug>=0.11.15 in /usr/local/lib/python3.7/dist-packages (from tensorboard<2.9,>=2.8->tensorflow<3,>=2.1.0->tensorflowjs) (1.0.1)\n",
            "Requirement already satisfied: google-auth<3,>=1.6.3 in /usr/local/lib/python3.7/dist-packages (from tensorboard<2.9,>=2.8->tensorflow<3,>=2.1.0->tensorflowjs) (1.35.0)\n",
            "Requirement already satisfied: markdown>=2.6.8 in /usr/local/lib/python3.7/dist-packages (from tensorboard<2.9,>=2.8->tensorflow<3,>=2.1.0->tensorflowjs) (3.3.6)\n",
            "Requirement already satisfied: tensorboard-plugin-wit>=1.6.0 in /usr/local/lib/python3.7/dist-packages (from tensorboard<2.9,>=2.8->tensorflow<3,>=2.1.0->tensorflowjs) (1.8.1)\n",
            "Requirement already satisfied: rsa<5,>=3.1.4 in /usr/local/lib/python3.7/dist-packages (from google-auth<3,>=1.6.3->tensorboard<2.9,>=2.8->tensorflow<3,>=2.1.0->tensorflowjs) (4.8)\n",
            "Requirement already satisfied: pyasn1-modules>=0.2.1 in /usr/local/lib/python3.7/dist-packages (from google-auth<3,>=1.6.3->tensorboard<2.9,>=2.8->tensorflow<3,>=2.1.0->tensorflowjs) (0.2.8)\n",
            "Requirement already satisfied: cachetools<5.0,>=2.0.0 in /usr/local/lib/python3.7/dist-packages (from google-auth<3,>=1.6.3->tensorboard<2.9,>=2.8->tensorflow<3,>=2.1.0->tensorflowjs) (4.2.4)\n",
            "Requirement already satisfied: requests-oauthlib>=0.7.0 in /usr/local/lib/python3.7/dist-packages (from google-auth-oauthlib<0.5,>=0.4.1->tensorboard<2.9,>=2.8->tensorflow<3,>=2.1.0->tensorflowjs) (1.3.1)\n",
            "Requirement already satisfied: importlib-metadata>=4.4 in /usr/local/lib/python3.7/dist-packages (from markdown>=2.6.8->tensorboard<2.9,>=2.8->tensorflow<3,>=2.1.0->tensorflowjs) (4.11.3)\n",
            "Requirement already satisfied: zipp>=0.5 in /usr/local/lib/python3.7/dist-packages (from importlib-metadata>=4.4->markdown>=2.6.8->tensorboard<2.9,>=2.8->tensorflow<3,>=2.1.0->tensorflowjs) (3.8.0)\n",
            "Requirement already satisfied: pyasn1<0.5.0,>=0.4.6 in /usr/local/lib/python3.7/dist-packages (from pyasn1-modules>=0.2.1->google-auth<3,>=1.6.3->tensorboard<2.9,>=2.8->tensorflow<3,>=2.1.0->tensorflowjs) (0.4.8)\n",
            "Requirement already satisfied: certifi>=2017.4.17 in /usr/local/lib/python3.7/dist-packages (from requests<3,>=2.21.0->tensorboard<2.9,>=2.8->tensorflow<3,>=2.1.0->tensorflowjs) (2021.10.8)\n",
            "Requirement already satisfied: urllib3!=1.25.0,!=1.25.1,<1.26,>=1.21.1 in /usr/local/lib/python3.7/dist-packages (from requests<3,>=2.21.0->tensorboard<2.9,>=2.8->tensorflow<3,>=2.1.0->tensorflowjs) (1.24.3)\n",
            "Requirement already satisfied: chardet<4,>=3.0.2 in /usr/local/lib/python3.7/dist-packages (from requests<3,>=2.21.0->tensorboard<2.9,>=2.8->tensorflow<3,>=2.1.0->tensorflowjs) (3.0.4)\n",
            "Requirement already satisfied: idna<3,>=2.5 in /usr/local/lib/python3.7/dist-packages (from requests<3,>=2.21.0->tensorboard<2.9,>=2.8->tensorflow<3,>=2.1.0->tensorflowjs) (2.10)\n",
            "Requirement already satisfied: oauthlib>=3.0.0 in /usr/local/lib/python3.7/dist-packages (from requests-oauthlib>=0.7.0->google-auth-oauthlib<0.5,>=0.4.1->tensorboard<2.9,>=2.8->tensorflow<3,>=2.1.0->tensorflowjs) (3.2.0)\n",
            "Installing collected packages: tf-estimator-nightly, tensorflowjs\n",
            "Successfully installed tensorflowjs-3.15.0 tf-estimator-nightly-2.8.0.dev2021122109\n",
            "  adding: tfjs_models/ (stored 0%)\n",
            "  adding: tfjs_models/model.json (deflated 87%)\n",
            "  adding: tfjs_models/group1-shard1of1.bin (deflated 7%)\n"
          ]
        },
        {
          "output_type": "display_data",
          "data": {
            "text/plain": [
              "<IPython.core.display.Javascript object>"
            ],
            "application/javascript": [
              "\n",
              "    async function download(id, filename, size) {\n",
              "      if (!google.colab.kernel.accessAllowed) {\n",
              "        return;\n",
              "      }\n",
              "      const div = document.createElement('div');\n",
              "      const label = document.createElement('label');\n",
              "      label.textContent = `Downloading \"${filename}\": `;\n",
              "      div.appendChild(label);\n",
              "      const progress = document.createElement('progress');\n",
              "      progress.max = size;\n",
              "      div.appendChild(progress);\n",
              "      document.body.appendChild(div);\n",
              "\n",
              "      const buffers = [];\n",
              "      let downloaded = 0;\n",
              "\n",
              "      const channel = await google.colab.kernel.comms.open(id);\n",
              "      // Send a message to notify the kernel that we're ready.\n",
              "      channel.send({})\n",
              "\n",
              "      for await (const message of channel.messages) {\n",
              "        // Send a message to notify the kernel that we're ready.\n",
              "        channel.send({})\n",
              "        if (message.buffers) {\n",
              "          for (const buffer of message.buffers) {\n",
              "            buffers.push(buffer);\n",
              "            downloaded += buffer.byteLength;\n",
              "            progress.value = downloaded;\n",
              "          }\n",
              "        }\n",
              "      }\n",
              "      const blob = new Blob(buffers, {type: 'application/binary'});\n",
              "      const a = document.createElement('a');\n",
              "      a.href = window.URL.createObjectURL(blob);\n",
              "      a.download = filename;\n",
              "      div.appendChild(a);\n",
              "      a.click();\n",
              "      div.remove();\n",
              "    }\n",
              "  "
            ]
          },
          "metadata": {}
        },
        {
          "output_type": "display_data",
          "data": {
            "text/plain": [
              "<IPython.core.display.Javascript object>"
            ],
            "application/javascript": [
              "download(\"download_a6ffa835-96c6-403d-9228-94bb06ae1d91\", \"tfjs_files_digit_only.zip\", 378923)"
            ]
          },
          "metadata": {}
        }
      ]
    },
    {
      "cell_type": "markdown",
      "metadata": {
        "id": "etE1oULFCnSn"
      },
      "source": [
        "### Plotting Loss and Accuracy Curves with Epochs"
      ]
    },
    {
      "cell_type": "code",
      "metadata": {
        "id": "ZWyxaeKxCn9O"
      },
      "source": [
        "import matplotlib.pyplot as plt\n",
        "\n",
        "def plot_loss_accuracy(history):\n",
        "  # Loss Curves\n",
        "  plt.figure(figsize=[8,6])\n",
        "  plt.plot(history.history['loss'],'r',linewidth=3.0)\n",
        "  plt.plot(history.history['val_loss'],'b',linewidth=3.0)\n",
        "  plt.legend(['Training loss', 'Validation Loss'],fontsize=18)\n",
        "  plt.xlabel('Epochs ',fontsize=16)\n",
        "  plt.ylabel('Loss',fontsize=16)\n",
        "  plt.title('Loss Curves',fontsize=16)\n",
        "\n",
        "  # Accuracy Curves\n",
        "  plt.figure(figsize=[8,6])\n",
        "  plt.plot(history.history['accuracy'],'r',linewidth=3.0)\n",
        "  plt.plot(history.history['val_accuracy'],'b',linewidth=3.0)\n",
        "  plt.legend(['Training Accuracy', 'Validation Accuracy'],fontsize=18)\n",
        "  plt.xlabel('Epochs ',fontsize=16)\n",
        "  plt.ylabel('Accuracy',fontsize=16)\n",
        "  plt.title('Accuracy Curves',fontsize=16) "
      ],
      "execution_count": null,
      "outputs": []
    },
    {
      "cell_type": "code",
      "metadata": {
        "id": "LE9WKyG7GNSs",
        "colab": {
          "base_uri": "https://localhost:8080/",
          "height": 805
        },
        "outputId": "e422ceee-90df-4146-a5a0-e54bb080cb77"
      },
      "source": [
        "plot_loss_accuracy(history)"
      ],
      "execution_count": null,
      "outputs": [
        {
          "output_type": "display_data",
          "data": {
            "text/plain": [
              "<Figure size 576x432 with 1 Axes>"
            ],
            "image/png": "[encoded data removed]"
          },
          "metadata": {
            "needs_background": "light"
          }
        },
        {
          "output_type": "display_data",
          "data": {
            "text/plain": [
              "<Figure size 576x432 with 1 Axes>"
            ],
            "image/png": "[encoded data removed]"
          },
          "metadata": {
            "needs_background": "light"
          }
        }
      ]
    },
    {
      "cell_type": "markdown",
      "metadata": {
        "id": "p8QOKiQpmWDC"
      },
      "source": [
        "### Load the Model with the Best Validation Loss\n"
      ]
    },
    {
      "cell_type": "code",
      "metadata": {
        "id": "OUunssvzmQUb"
      },
      "source": [
        "model.load_weights('weights.hdf5')"
      ],
      "execution_count": null,
      "outputs": []
    },
    {
      "cell_type": "markdown",
      "metadata": {
        "id": "Aijsry3Xmmv-"
      },
      "source": [
        "## Test the Model\n"
      ]
    },
    {
      "cell_type": "code",
      "metadata": {
        "id": "8h7E8G7CsCFB",
        "colab": {
          "base_uri": "https://localhost:8080/"
        },
        "outputId": "82701b02-c76e-4ea2-8bb6-cf315be84978"
      },
      "source": [
        "# Final evaluation of the model\n",
        "metrics = model.evaluate(testing_data_images, testing_data_labels, verbose=1)\n",
        "print(\"Test Accuracy: {}\".format(metrics[1]))\n",
        "print(\"Test Loss: {}\".format(metrics[0]))"
      ],
      "execution_count": null,
      "outputs": [
        {
          "output_type": "stream",
          "name": "stdout",
          "text": [
            "105/105 [==============================] - 1s 7ms/step - loss: 0.1555 - accuracy: 0.9568\n",
            "Test Accuracy: 0.956845223903656\n",
            "Test Loss: 0.15552979707717896\n"
          ]
        }
      ]
    },
    {
      "cell_type": "markdown",
      "metadata": {
        "id": "Xz04uhKPnFft"
      },
      "source": [
        "**We get test accuracy of 95.68% after training on 10 epochs only.**\n"
      ]
    },
    {
      "cell_type": "markdown",
      "metadata": {
        "id": "Rit6CswqnrEC"
      },
      "source": [
        "## Training More on the best model"
      ]
    },
    {
      "cell_type": "code",
      "metadata": {
        "id": "BZAP7VW1npA-",
        "colab": {
          "base_uri": "https://localhost:8080/",
          "height": 1000
        },
        "outputId": "8fd5da86-f272-43ee-f2e6-992f4a112739"
      },
      "source": [
        "epochs = 20\n",
        "batch_size = 20\n",
        "\n",
        "checkpointer = ModelCheckpoint(filepath='weights.hdf5', verbose=1, save_best_only=True)\n",
        "\n",
        "history = model.fit(training_data_images, training_data_labels, \n",
        "                    validation_data=(testing_data_images, testing_data_labels),\n",
        "                    epochs=epochs, batch_size=batch_size, verbose=1, callbacks=[checkpointer])\n",
        "          \n",
        "model.load_weights('weights.hdf5')\n",
        "plot_loss_accuracy(history)"
      ],
      "execution_count": null,
      "outputs": [
        {
          "output_type": "stream",
          "name": "stdout",
          "text": [
            "Epoch 1/20\n",
            "669/672 [============================>.] - ETA: 0s - loss: 0.1165 - accuracy: 0.9631\n",
            "Epoch 1: val_loss improved from inf to 0.27627, saving model to weights.hdf5\n",
            "672/672 [==============================] - 8s 12ms/step - loss: 0.1161 - accuracy: 0.9632 - val_loss: 0.2763 - val_accuracy: 0.9003\n",
            "Epoch 2/20\n",
            "667/672 [============================>.] - ETA: 0s - loss: 0.1204 - accuracy: 0.9615\n",
            "Epoch 2: val_loss improved from 0.27627 to 0.16504, saving model to weights.hdf5\n",
            "672/672 [==============================] - 7s 10ms/step - loss: 0.1199 - accuracy: 0.9617 - val_loss: 0.1650 - val_accuracy: 0.9512\n",
            "Epoch 3/20\n",
            "671/672 [============================>.] - ETA: 0s - loss: 0.1085 - accuracy: 0.9679\n",
            "Epoch 3: val_loss did not improve from 0.16504\n",
            "672/672 [==============================] - 6s 9ms/step - loss: 0.1084 - accuracy: 0.9679 - val_loss: 0.3750 - val_accuracy: 0.8994\n",
            "Epoch 4/20\n",
            "667/672 [============================>.] - ETA: 0s - loss: 0.1066 - accuracy: 0.9658\n",
            "Epoch 4: val_loss did not improve from 0.16504\n",
            "672/672 [==============================] - 6s 9ms/step - loss: 0.1069 - accuracy: 0.9655 - val_loss: 5.3154 - val_accuracy: 0.3845\n",
            "Epoch 5/20\n",
            "668/672 [============================>.] - ETA: 0s - loss: 0.0958 - accuracy: 0.9701\n",
            "Epoch 5: val_loss did not improve from 0.16504\n",
            "672/672 [==============================] - 6s 10ms/step - loss: 0.0958 - accuracy: 0.9702 - val_loss: 6.3083 - val_accuracy: 0.3699\n",
            "Epoch 6/20\n",
            "670/672 [============================>.] - ETA: 0s - loss: 0.0913 - accuracy: 0.9709\n",
            "Epoch 6: val_loss improved from 0.16504 to 0.15243, saving model to weights.hdf5\n",
            "672/672 [==============================] - 6s 10ms/step - loss: 0.0913 - accuracy: 0.9709 - val_loss: 0.1524 - val_accuracy: 0.9530\n",
            "Epoch 7/20\n",
            "672/672 [==============================] - ETA: 0s - loss: 0.0844 - accuracy: 0.9712\n",
            "Epoch 7: val_loss did not improve from 0.15243\n",
            "672/672 [==============================] - 6s 10ms/step - loss: 0.0844 - accuracy: 0.9712 - val_loss: 0.4492 - val_accuracy: 0.8488\n",
            "Epoch 8/20\n",
            "669/672 [============================>.] - ETA: 0s - loss: 0.0887 - accuracy: 0.9695\n",
            "Epoch 8: val_loss did not improve from 0.15243\n",
            "672/672 [==============================] - 6s 10ms/step - loss: 0.0886 - accuracy: 0.9695 - val_loss: 0.5243 - val_accuracy: 0.8580\n",
            "Epoch 9/20\n",
            "672/672 [==============================] - ETA: 0s - loss: 0.0829 - accuracy: 0.9751\n",
            "Epoch 9: val_loss did not improve from 0.15243\n",
            "672/672 [==============================] - 6s 9ms/step - loss: 0.0829 - accuracy: 0.9751 - val_loss: 0.2643 - val_accuracy: 0.9366\n",
            "Epoch 10/20\n",
            "671/672 [============================>.] - ETA: 0s - loss: 0.0818 - accuracy: 0.9720\n",
            "Epoch 10: val_loss did not improve from 0.15243\n",
            "672/672 [==============================] - 6s 9ms/step - loss: 0.0818 - accuracy: 0.9719 - val_loss: 0.1766 - val_accuracy: 0.9512\n",
            "Epoch 11/20\n",
            "670/672 [============================>.] - ETA: 0s - loss: 0.0794 - accuracy: 0.9743\n",
            "Epoch 11: val_loss improved from 0.15243 to 0.14096, saving model to weights.hdf5\n",
            "672/672 [==============================] - 7s 10ms/step - loss: 0.0792 - accuracy: 0.9744 - val_loss: 0.1410 - val_accuracy: 0.9574\n",
            "Epoch 12/20\n",
            "669/672 [============================>.] - ETA: 0s - loss: 0.0786 - accuracy: 0.9757\n",
            "Epoch 12: val_loss improved from 0.14096 to 0.11245, saving model to weights.hdf5\n",
            "672/672 [==============================] - 7s 10ms/step - loss: 0.0786 - accuracy: 0.9757 - val_loss: 0.1124 - val_accuracy: 0.9682\n",
            "Epoch 13/20\n",
            "670/672 [============================>.] - ETA: 0s - loss: 0.0723 - accuracy: 0.9768\n",
            "Epoch 13: val_loss improved from 0.11245 to 0.10599, saving model to weights.hdf5\n",
            "672/672 [==============================] - 6s 10ms/step - loss: 0.0725 - accuracy: 0.9768 - val_loss: 0.1060 - val_accuracy: 0.9693\n",
            "Epoch 14/20\n",
            "672/672 [==============================] - ETA: 0s - loss: 0.0714 - accuracy: 0.9761\n",
            "Epoch 14: val_loss did not improve from 0.10599\n",
            "672/672 [==============================] - 7s 10ms/step - loss: 0.0714 - accuracy: 0.9761 - val_loss: 0.2028 - val_accuracy: 0.9438\n",
            "Epoch 15/20\n",
            "672/672 [==============================] - ETA: 0s - loss: 0.0666 - accuracy: 0.9773\n",
            "Epoch 15: val_loss did not improve from 0.10599\n",
            "672/672 [==============================] - 6s 10ms/step - loss: 0.0666 - accuracy: 0.9773 - val_loss: 6.0468 - val_accuracy: 0.2551\n",
            "Epoch 16/20\n",
            "669/672 [============================>.] - ETA: 0s - loss: 0.0724 - accuracy: 0.9761\n",
            "Epoch 16: val_loss did not improve from 0.10599\n",
            "672/672 [==============================] - 7s 10ms/step - loss: 0.0722 - accuracy: 0.9762 - val_loss: 0.2469 - val_accuracy: 0.9289\n",
            "Epoch 17/20\n",
            "669/672 [============================>.] - ETA: 0s - loss: 0.0625 - accuracy: 0.9796\n",
            "Epoch 17: val_loss did not improve from 0.10599\n",
            "672/672 [==============================] - 7s 10ms/step - loss: 0.0623 - accuracy: 0.9797 - val_loss: 0.1552 - val_accuracy: 0.9557\n",
            "Epoch 18/20\n",
            "671/672 [============================>.] - ETA: 0s - loss: 0.0688 - accuracy: 0.9776\n",
            "Epoch 18: val_loss did not improve from 0.10599\n",
            "672/672 [==============================] - 7s 10ms/step - loss: 0.0692 - accuracy: 0.9775 - val_loss: 0.3060 - val_accuracy: 0.8988\n",
            "Epoch 19/20\n",
            "670/672 [============================>.] - ETA: 0s - loss: 0.0624 - accuracy: 0.9788\n",
            "Epoch 19: val_loss did not improve from 0.10599\n",
            "672/672 [==============================] - 7s 10ms/step - loss: 0.0630 - accuracy: 0.9787 - val_loss: 0.1992 - val_accuracy: 0.9423\n",
            "Epoch 20/20\n",
            "669/672 [============================>.] - ETA: 0s - loss: 0.0628 - accuracy: 0.9789\n",
            "Epoch 20: val_loss did not improve from 0.10599\n",
            "672/672 [==============================] - 7s 10ms/step - loss: 0.0629 - accuracy: 0.9789 - val_loss: 0.2949 - val_accuracy: 0.9083\n"
          ]
        },
        {
          "output_type": "display_data",
          "data": {
            "text/plain": [
              "<Figure size 576x432 with 1 Axes>"
            ],
            "image/png": "[encoded data removed]"
          },
          "metadata": {
            "needs_background": "light"
          }
        },
        {
          "output_type": "display_data",
          "data": {
            "text/plain": [
              "<Figure size 576x432 with 1 Axes>"
            ],
            "image/png": "[encoded data removed]"
          },
          "metadata": {
            "needs_background": "light"
          }
        }
      ]
    },
    {
      "cell_type": "code",
      "metadata": {
        "id": "c8GWs-8bNsxR",
        "colab": {
          "base_uri": "https://localhost:8080/",
          "height": 805
        },
        "outputId": "e7e48ef4-3070-4303-9c3a-1fcb355c4b51"
      },
      "source": [
        "plot_loss_accuracy(history)"
      ],
      "execution_count": null,
      "outputs": [
        {
          "output_type": "display_data",
          "data": {
            "text/plain": [
              "<Figure size 576x432 with 1 Axes>"
            ],
            "image/png": "[encoded data removed]"
          },
          "metadata": {
            "needs_background": "light"
          }
        },
        {
          "output_type": "display_data",
          "data": {
            "text/plain": [
              "<Figure size 576x432 with 1 Axes>"
            ],
            "image/png": "[encoded data removed]"
          },
          "metadata": {
            "needs_background": "light"
          }
        }
      ]
    },
    {
      "cell_type": "markdown",
      "metadata": {
        "id": "RC6yRcCHoMa7"
      },
      "source": [
        "## Testing the Model again"
      ]
    },
    {
      "cell_type": "code",
      "metadata": {
        "id": "Bm5y2MgXoP3F",
        "colab": {
          "base_uri": "https://localhost:8080/"
        },
        "outputId": "925cad7f-a515-473d-c0cb-0f41da2df5e1"
      },
      "source": [
        "# Final evaluation of the model\n",
        "metrics = model.evaluate(testing_data_images, testing_data_labels, verbose=1)\n",
        "print(\"Test Accuracy: {}\".format(metrics[1]))\n",
        "print(\"Test Loss: {}\".format(metrics[0]))"
      ],
      "execution_count": null,
      "outputs": [
        {
          "output_type": "stream",
          "name": "stdout",
          "text": [
            "105/105 [==============================] - 1s 7ms/step - loss: 0.1060 - accuracy: 0.9693\n",
            "Test Accuracy: 0.969345211982727\n",
            "Test Loss: 0.10598547011613846\n"
          ]
        }
      ]
    },
    {
      "cell_type": "markdown",
      "metadata": {
        "id": "3cVhqFs8oYwz"
      },
      "source": [
        "After training the model on more epochs we gained a better model which can classify complex patterns . So when we tested it on our test dataset we had better results than before.\n",
        "\n",
        "**Test accuracy is improved from 95.68% to 96.93% As we train the model on 20 more epochs.**\n",
        "\n"
      ]
    },
    {
      "cell_type": "markdown",
      "metadata": {
        "id": "RUes2bqFqycc"
      },
      "source": [
        "## Saving the Final Model"
      ]
    },
    {
      "cell_type": "markdown",
      "metadata": {
        "id": "ozgwPPrArhoY"
      },
      "source": [
        "Save the model weights to file."
      ]
    },
    {
      "cell_type": "code",
      "metadata": {
        "id": "jAVASfDAo_lN",
        "colab": {
          "base_uri": "https://localhost:8080/"
        },
        "outputId": "87b2d694-0bfe-44af-fe45-b9a9f7fac740"
      },
      "source": [
        "# serialize weights to HDF5\n",
        "model.save_weights(\"model.h5\")\n",
        "print(\"Saved model to disk\")"
      ],
      "execution_count": null,
      "outputs": [
        {
          "output_type": "stream",
          "name": "stdout",
          "text": [
            "Saved model to disk\n"
          ]
        }
      ]
    },
    {
      "cell_type": "markdown",
      "metadata": {
        "id": "bvOiQNT-u6DQ"
      },
      "source": [
        "## Benchmark Model"
      ]
    },
    {
      "cell_type": "markdown",
      "metadata": {
        "id": "VljY9PAbwWfo"
      },
      "source": [
        "We will use a very simple (vanilla) CNN model as benchmark and Train/test it using the same data that you have used for our model solution.\n",
        "Then Compare the results between the vanilla model and our complex model."
      ]
    },
    {
      "cell_type": "code",
      "metadata": {
        "id": "r3uAvHHzwW8D",
        "colab": {
          "base_uri": "https://localhost:8080/"
        },
        "outputId": "966cd03f-c4e4-410a-a7a4-d679334d559e"
      },
      "source": [
        "baseline_model = Sequential()\n",
        "baseline_model.add(Conv2D(filters=16, kernel_size=3, padding='same', input_shape=(64, 64, 1), activation='relu')) # Input layer\n",
        "baseline_model.add(GlobalAveragePooling2D())\n",
        "baseline_model.add(Dense(28, activation = 'softmax')) # Output layer => output dimension = 38 as it is multi-class\n",
        "\n",
        "# Compile the baseline model\n",
        "baseline_model.compile(loss='categorical_crossentropy', metrics=['accuracy'], optimizer='Adam')\n",
        "\n",
        "# Fit the baseline model with training dataset\n",
        "epochs = 5\n",
        "batch_size = 20\n",
        "\n",
        "baseline_model.fit(training_data_images, training_data_labels, \n",
        "                  validation_data=(testing_data_images, testing_data_labels),\n",
        "                  epochs=epochs, batch_size=batch_size, verbose=1)\n",
        "\n",
        "# Test the baseline model\n",
        "baseline_metrics = baseline_model.evaluate(testing_data_images, testing_data_labels, verbose=1)\n",
        "print(\"Baseline Model Test Accuracy: {}\".format(baseline_metrics[1]))\n",
        "print(\"Baseline Model Test Loss: {}\".format(baseline_metrics[0]))\n"
      ],
      "execution_count": null,
      "outputs": [
        {
          "output_type": "stream",
          "name": "stdout",
          "text": [
            "Epoch 1/5\n",
            "672/672 [==============================] - 7s 9ms/step - loss: 3.3231 - accuracy: 0.0335 - val_loss: 3.3022 - val_accuracy: 0.0357\n",
            "Epoch 2/5\n",
            "672/672 [==============================] - 4s 6ms/step - loss: 3.2817 - accuracy: 0.0418 - val_loss: 3.2502 - val_accuracy: 0.0545\n",
            "Epoch 3/5\n",
            "672/672 [==============================] - 3s 5ms/step - loss: 3.2167 - accuracy: 0.0685 - val_loss: 3.1763 - val_accuracy: 0.0667\n",
            "Epoch 4/5\n",
            "672/672 [==============================] - 3s 5ms/step - loss: 3.1531 - accuracy: 0.0734 - val_loss: 3.1214 - val_accuracy: 0.0759\n",
            "Epoch 5/5\n",
            "672/672 [==============================] - 3s 5ms/step - loss: 3.1110 - accuracy: 0.0762 - val_loss: 3.0861 - val_accuracy: 0.0821\n",
            "105/105 [==============================] - 1s 4ms/step - loss: 3.0861 - accuracy: 0.0821\n",
            "Baseline Model Test Accuracy: 0.08214285969734192\n",
            "Baseline Model Test Loss: 3.0861313343048096\n"
          ]
        }
      ]
    },
    {
      "cell_type": "markdown",
      "metadata": {
        "id": "x2vaf6pNSiBj"
      },
      "source": [
        "**We get test accuracy of 8.21% from the baseline Model (vanilla). **"
      ]
    },
    {
      "cell_type": "markdown",
      "metadata": {
        "id": "VKGKogPCMhZM"
      },
      "source": [
        "## Predict Image Classes"
      ]
    },
    {
      "cell_type": "markdown",
      "metadata": {
        "id": "_TEpbiLtEtaW"
      },
      "source": [
        "Making a method which takes a model, data and its true labels (optional for using in testing). Then it gives the predicted classes of the given data using the given model."
      ]
    },
    {
      "cell_type": "code",
      "metadata": {
        "id": "dXQEPxpGBJao"
      },
      "source": [
        "def get_predicted_classes(model, data, labels=None):\n",
        "  image_predictions = model.predict(data)\n",
        "  predicted_classes = np.argmax(image_predictions, axis=1)\n",
        "  true_classes = np.argmax(labels, axis=1)\n",
        "  return predicted_classes, true_classes"
      ],
      "execution_count": null,
      "outputs": []
    },
    {
      "cell_type": "code",
      "source": [
        "testing_letters_images_scaled[4].shape"
      ],
      "metadata": {
        "colab": {
          "base_uri": "https://localhost:8080/"
        },
        "id": "mFyyP5EArJ1B",
        "outputId": "704c92ef-2a03-4b41-a30f-8a9c8d9d9bfe"
      },
      "execution_count": null,
      "outputs": [
        {
          "output_type": "execute_result",
          "data": {
            "text/plain": [
              "(64, 64, 1)"
            ]
          },
          "metadata": {},
          "execution_count": 37
        }
      ]
    },
    {
      "cell_type": "code",
      "source": [
        "ar = model.predict(testing_letters_images_scaled)"
      ],
      "metadata": {
        "id": "Kd3o_7HvqDSr"
      },
      "execution_count": null,
      "outputs": []
    },
    {
      "cell_type": "code",
      "source": [
        "i=29"
      ],
      "metadata": {
        "id": "7j3Lb6bEJTYJ"
      },
      "execution_count": null,
      "outputs": []
    },
    {
      "cell_type": "code",
      "source": [
        "print(ar[i])"
      ],
      "metadata": {
        "colab": {
          "base_uri": "https://localhost:8080/"
        },
        "id": "BxHnpPKerrey",
        "outputId": "c08f0d4c-589c-48f3-e36c-f9a303d0d3d6"
      },
      "execution_count": null,
      "outputs": [
        {
          "output_type": "stream",
          "name": "stdout",
          "text": [
            "[5.4731671e-14 1.5628163e-13 1.5154258e-11 2.1549013e-08 3.3114797e-10\n",
            " 4.8388504e-10 5.6445415e-06 1.0798174e-13 1.6215702e-09 3.1500982e-11\n",
            " 9.6791499e-09 3.1230390e-11 7.0675196e-07 1.2401057e-06 9.9912030e-01\n",
            " 3.4720736e-06 4.9370187e-06 1.3626987e-10 4.4651718e-09 8.6149469e-04\n",
            " 2.2243614e-06 3.3784375e-09 2.1885571e-11 6.2635980e-10 6.0632068e-09\n",
            " 8.4039836e-10 3.0040304e-13 7.9675823e-12]\n"
          ]
        }
      ]
    },
    {
      "cell_type": "code",
      "source": [
        "print(testing_letters_labels_encoded_28_arr[i])"
      ],
      "metadata": {
        "colab": {
          "base_uri": "https://localhost:8080/"
        },
        "id": "z4PP9L_Drw9K",
        "outputId": "100a6bf7-8461-43ab-ba16-77ab0241d6b0"
      },
      "execution_count": null,
      "outputs": [
        {
          "output_type": "stream",
          "name": "stdout",
          "text": [
            "[0. 0. 0. 0. 0. 0. 0. 0. 0. 0. 0. 0. 0. 0. 1. 0. 0. 0. 0. 0. 0. 0. 0. 0.\n",
            " 0. 0. 0. 0.]\n"
          ]
        }
      ]
    },
    {
      "cell_type": "code",
      "source": [
        "convert_values_to_image(testing_letters_images.loc[i], True)"
      ],
      "metadata": {
        "colab": {
          "base_uri": "https://localhost:8080/",
          "height": 81
        },
        "id": "QouMafZiJGdc",
        "outputId": "0cadd314-a205-48c6-f3be-5754b277f6de"
      },
      "execution_count": null,
      "outputs": [
        {
          "output_type": "execute_result",
          "data": {
            "text/plain": [
              "<PIL.Image.Image image mode=L size=64x64 at 0x7F3C6D05EE90>"
            ],
            "image/png": "[encoded data removed]"
          },
          "metadata": {},
          "execution_count": 42
        }
      ]
    },
    {
      "cell_type": "code",
      "source": [
        "convert_values_to_image_wtf(testing_letters_images.loc[i], True)"
      ],
      "metadata": {
        "colab": {
          "base_uri": "https://localhost:8080/",
          "height": 81
        },
        "id": "yn0MT2-gKA2S",
        "outputId": "34222113-d8a9-4920-c79f-e7c55242d564"
      },
      "execution_count": null,
      "outputs": [
        {
          "output_type": "execute_result",
          "data": {
            "text/plain": [
              "<PIL.Image.Image image mode=L size=64x64 at 0x7F3C6D02F1D0>"
            ],
            "image/png": "[encoded data removed]"
          },
          "metadata": {},
          "execution_count": 43
        }
      ]
    },
    {
      "cell_type": "markdown",
      "metadata": {
        "id": "mA_tBIt3A3xr"
      },
      "source": [
        "## Comparing Evaluation Metrics between Benchmark Model and Final Model"
      ]
    },
    {
      "cell_type": "markdown",
      "metadata": {
        "id": "LSPG55usTdyZ"
      },
      "source": [
        "Making a method which will print all metrics (precision, recall, f1-score and support) with each class in the dataset."
      ]
    },
    {
      "cell_type": "code",
      "metadata": {
        "id": "rS1nOxCQSImh"
      },
      "source": [
        "from sklearn.metrics import classification_report\n",
        "\n",
        "def get_classification_report(y_true, y_pred):\n",
        "  print(classification_report(y_true, y_pred))"
      ],
      "execution_count": null,
      "outputs": []
    },
    {
      "cell_type": "markdown",
      "metadata": {
        "id": "FdzM8mCUT0m1"
      },
      "source": [
        "### Evaluating Final Model using the specified metrics"
      ]
    },
    {
      "cell_type": "code",
      "metadata": {
        "id": "HgR-5MsXS0O3",
        "colab": {
          "base_uri": "https://localhost:8080/"
        },
        "outputId": "f21ff587-19e6-4fc7-c68f-bf8445052b2b"
      },
      "source": [
        "y_pred, y_true = get_predicted_classes(model, testing_data_images, testing_data_labels)\n",
        "get_classification_report(y_true, y_pred)"
      ],
      "execution_count": null,
      "outputs": [
        {
          "output_type": "stream",
          "name": "stdout",
          "text": [
            "              precision    recall  f1-score   support\n",
            "\n",
            "           0       0.98      0.99      0.99       120\n",
            "           1       0.98      1.00      0.99       120\n",
            "           2       0.91      0.96      0.93       120\n",
            "           3       0.95      0.97      0.96       120\n",
            "           4       0.99      0.99      0.99       120\n",
            "           5       0.99      0.99      0.99       120\n",
            "           6       0.97      0.99      0.98       120\n",
            "           7       0.94      0.99      0.97       120\n",
            "           8       0.89      0.97      0.93       120\n",
            "           9       0.94      0.99      0.97       120\n",
            "          10       1.00      0.88      0.93       120\n",
            "          11       0.99      0.99      0.99       120\n",
            "          12       0.99      1.00      1.00       120\n",
            "          13       0.95      0.99      0.97       120\n",
            "          14       1.00      0.93      0.97       120\n",
            "          15       0.94      0.99      0.97       120\n",
            "          16       1.00      0.95      0.97       120\n",
            "          17       0.96      0.98      0.97       120\n",
            "          18       1.00      0.95      0.97       120\n",
            "          19       0.90      1.00      0.95       120\n",
            "          20       0.99      0.91      0.95       120\n",
            "          21       1.00      0.97      0.99       120\n",
            "          22       1.00      0.99      1.00       120\n",
            "          23       0.98      0.98      0.98       120\n",
            "          24       0.96      0.90      0.93       120\n",
            "          25       0.98      0.95      0.97       120\n",
            "          26       0.95      0.96      0.95       120\n",
            "          27       1.00      0.96      0.98       120\n",
            "\n",
            "    accuracy                           0.97      3360\n",
            "   macro avg       0.97      0.97      0.97      3360\n",
            "weighted avg       0.97      0.97      0.97      3360\n",
            "\n"
          ]
        }
      ]
    },
    {
      "cell_type": "markdown",
      "metadata": {
        "id": "MlYyVo8uUJqf"
      },
      "source": [
        "### Evaluating Baseline (Benchmark) Model using the specified metrics"
      ]
    },
    {
      "cell_type": "code",
      "metadata": {
        "id": "AbG3WPovTFQD",
        "colab": {
          "base_uri": "https://localhost:8080/"
        },
        "outputId": "7dc11a66-e3b7-4890-818e-dc3ca2db4678"
      },
      "source": [
        "y_pred, y_true = get_predicted_classes(baseline_model, testing_data_images, testing_data_labels)\n",
        "get_classification_report(y_true, y_pred)"
      ],
      "execution_count": null,
      "outputs": [
        {
          "output_type": "stream",
          "name": "stdout",
          "text": [
            "              precision    recall  f1-score   support\n",
            "\n",
            "           0       0.00      0.00      0.00       120\n",
            "           1       0.07      0.35      0.12       120\n",
            "           2       0.10      0.07      0.09       120\n",
            "           3       0.00      0.00      0.00       120\n",
            "           4       0.00      0.00      0.00       120\n",
            "           5       0.00      0.00      0.00       120\n",
            "           6       0.00      0.00      0.00       120\n",
            "           7       0.00      0.00      0.00       120\n",
            "           8       0.12      0.78      0.21       120\n",
            "           9       0.00      0.00      0.00       120\n",
            "          10       0.00      0.00      0.00       120\n",
            "          11       0.05      0.17      0.08       120\n",
            "          12       0.00      0.00      0.00       120\n",
            "          13       0.00      0.00      0.00       120\n",
            "          14       0.12      0.12      0.12       120\n",
            "          15       0.00      0.00      0.00       120\n",
            "          16       0.06      0.43      0.10       120\n",
            "          17       0.00      0.00      0.00       120\n",
            "          18       0.05      0.13      0.08       120\n",
            "          19       0.00      0.00      0.00       120\n",
            "          20       0.00      0.00      0.00       120\n",
            "          21       0.00      0.00      0.00       120\n",
            "          22       0.00      0.00      0.00       120\n",
            "          23       0.00      0.00      0.00       120\n",
            "          24       0.00      0.00      0.00       120\n",
            "          25       0.12      0.23      0.16       120\n",
            "          26       0.00      0.00      0.00       120\n",
            "          27       0.00      0.00      0.00       120\n",
            "\n",
            "    accuracy                           0.08      3360\n",
            "   macro avg       0.02      0.08      0.03      3360\n",
            "weighted avg       0.02      0.08      0.03      3360\n",
            "\n"
          ]
        },
        {
          "output_type": "stream",
          "name": "stderr",
          "text": [
            "/usr/local/lib/python3.7/dist-packages/sklearn/metrics/_classification.py:1318: UndefinedMetricWarning: Precision and F-score are ill-defined and being set to 0.0 in labels with no predicted samples. Use `zero_division` parameter to control this behavior.\n",
            "  _warn_prf(average, modifier, msg_start, len(result))\n",
            "/usr/local/lib/python3.7/dist-packages/sklearn/metrics/_classification.py:1318: UndefinedMetricWarning: Precision and F-score are ill-defined and being set to 0.0 in labels with no predicted samples. Use `zero_division` parameter to control this behavior.\n",
            "  _warn_prf(average, modifier, msg_start, len(result))\n",
            "/usr/local/lib/python3.7/dist-packages/sklearn/metrics/_classification.py:1318: UndefinedMetricWarning: Precision and F-score are ill-defined and being set to 0.0 in labels with no predicted samples. Use `zero_division` parameter to control this behavior.\n",
            "  _warn_prf(average, modifier, msg_start, len(result))\n"
          ]
        }
      ]
    },
    {
      "cell_type": "markdown",
      "metadata": {
        "id": "X_Kf3t3fpvwD"
      },
      "source": [
        "## A Demo to see how the model works on examples of the testing data"
      ]
    },
    {
      "cell_type": "markdown",
      "metadata": {
        "id": "gfa_fZNbsNSf"
      },
      "source": [
        "Let's recall:\n",
        "* Letters from ’alef’='أ' to ’yeh’='ى' were encoded to categorical labels from 10 to 37. Then converted it from 0 to 27.\n",
        "\n",
        "**Recall that we have used One Hot Encoding which transforms integer to a binary matrix where the array contains only one ‘1’ and the rest elements are ‘0’.**"
      ]
    },
    {
      "cell_type": "code",
      "metadata": {
        "id": "28J4tcx60-lO"
      },
      "source": [
        "def get_non_zero_index_from_one_hot_encoding(one_hot_encoding):\n",
        "  non_zero_index = np.where(one_hot_encoding == 1)[0]\n",
        "  assert(len(non_zero_index) == 1)\n",
        "  non_zero_index = non_zero_index[0]\n",
        "  return non_zero_index"
      ],
      "execution_count": null,
      "outputs": []
    },
    {
      "cell_type": "code",
      "metadata": {
        "id": "xuAddVtcsCK4"
      },
      "source": [
        "def convert_categorical_label_to_real_label(categorical_label):\n",
        "  real_labels = []\n",
        "  real_labels.extend([x for x in range(10)])\n",
        "  real_labels.extend(['أ', 'ب', 'ت', 'ث', 'ج', 'ح', 'خ', 'د', 'ذ', 'ر', 'ز', 'س', 'ش', 'ص', 'ض', 'ط', 'ظ', 'ع', 'غ', 'ف', 'ق', 'ك', 'ل', 'م', 'ن', 'ه', 'و', 'ى'])\n",
        "  return real_labels[categorical_label]"
      ],
      "execution_count": null,
      "outputs": []
    },
    {
      "cell_type": "code",
      "metadata": {
        "id": "vyyZNtjn16Be"
      },
      "source": [
        "def show_example(sample_index):\n",
        "  y_pred, y_true = get_predicted_classes(model, testing_data_images[[sample_index]], testing_data_labels[[sample_index]])\n",
        "  non_zero_index = get_non_zero_index_from_one_hot_encoding(testing_data_labels[sample_index])\n",
        "  y_true = y_true[0]\n",
        "  y_pred = y_pred[0]\n",
        "  assert y_true == non_zero_index\n",
        "  true_label = convert_categorical_label_to_real_label(y_true)\n",
        "  predicted_label = convert_categorical_label_to_real_label(y_pred)\n",
        "  print(\"The following image has the written character '{}' but the model predicted it as '{}'\".format(true_label, predicted_label))\n",
        "  return true_label == predicted_label"
      ],
      "execution_count": null,
      "outputs": []
    },
    {
      "cell_type": "markdown",
      "metadata": {
        "id": "FMrOKy46Ua1d"
      },
      "source": [
        "## Conclusion"
      ]
    },
    {
      "cell_type": "markdown",
      "metadata": {
        "id": "T1UPKIl9Uew7"
      },
      "source": [
        "**We built a CNN model which can classify the arabic handwritten images into letters. We tested the model on more than 3360 image with all possible classes and got very high accuracy of 96.93%.**"
      ]
    }
  ]
}